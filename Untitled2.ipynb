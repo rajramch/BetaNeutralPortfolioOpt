{
 "cells": [
  {
   "cell_type": "code",
   "execution_count": 1,
   "metadata": {},
   "outputs": [],
   "source": [
    "import ffn \n",
    "import matplotlib as pyplot\n",
    "import numpy as np\n",
    "import pandas as pd\n",
    "import datetime as dt\n",
    "from empyrical import alpha_beta\n",
    "from pypfopt.efficient_frontier import EfficientFrontier\n",
    "from pypfopt import risk_models\n",
    "from pypfopt import expected_returns\n",
    "from pypfopt import discrete_allocation\n",
    "from pypfopt.discrete_allocation import DiscreteAllocation, get_latest_prices\n",
    "from pandas_datareader import data\n",
    "%matplotlib inline\n",
    "import matplotlib.pyplot as plt\n",
    "%config InlineBackend.figure_format = 'retina'"
   ]
  },
  {
   "cell_type": "code",
   "execution_count": 2,
   "metadata": {},
   "outputs": [],
   "source": [
    "def calc(stockStartTime,stockEndTime):\n",
    "    #calculating 2 years prior of the start date\n",
    "    tempdate = dt.datetime.fromisoformat(stockStartTime)\n",
    "    tempdate = tempdate - dt.timedelta(weeks=104)\n",
    "    prices = ffn.get('pfe,ibm,wmt,msft,cat', start= tempdate.strftime('%Y-%m-%d'), end=stockStartTime)\n",
    "    # Expected returns and sample covariance\n",
    "    mu = expected_returns.mean_historical_return(prices)\n",
    "    S = risk_models.sample_cov(prices)\n",
    "    #Minimum volatility. May be useful if you're trying to get an idea of how low the volatility could be, \n",
    "    #but in practice it makes a lot more sense to me to use the portfolio that maximises the Sharpe ratio.\n",
    "    # Optimise portfolio for maximum Sharpe Ratio to serve as benchmark\n",
    "    ef = EfficientFrontier(mu, S)\n",
    "    raw_weights = ef.min_volatility() #ef.max_sharpe()\n",
    "    cleaned_weights = ef.clean_weights() \n",
    "    print(\"Cleaned weights:\\n\",cleaned_weights)\n",
    "    print(\"Portfolio Performance:\\n\",ef.portfolio_performance(verbose=True))\n",
    "    #To achieve beta neutrality\n",
    "    ef = EfficientFrontier(mu, S, weight_bounds=(-1, 1))\n",
    "    print(\" Weights: \",ef.efficient_return(target_return=0.15, market_neutral=True))\n",
    "    weights = ef.efficient_return(target_return=0.2, market_neutral=True)\n",
    "    weight_sum = sum(w for w in weights.values() if w > 0)\n",
    "    normalised_weights = {k:v/weight_sum for k,v in weights.items()}\n",
    "    #print(\"Normalized weights: \",normalised_weights)\n",
    "    #We then need to convert these weights into an actual allocation, telling you how many shares of each asset you should purchase.\n",
    "    latest_prices = get_latest_prices(prices)\n",
    "    da = DiscreteAllocation(weights, latest_prices, total_portfolio_value=1000000)\n",
    "    allocation, leftover = da.lp_portfolio()\n",
    "    #print(allocation)\n",
    "    print(\"\")\n",
    "    for key,val in allocation.items():\n",
    "        print(\"Number of positions in \",key,\" stock: \",val)\n",
    "    print(\"\")\n",
    "    print(\"Funds remaining: ${:.2f}\".format(leftover))\n",
    "    print(\"\")\n",
    "    prices2 = ffn.get('pfe,ibm,wmt,msft,cat', start=stockStartTime, end=stockEndTime)\n",
    "    latest_prices2 = get_latest_prices(prices2)\n",
    "    sum1 = 0\n",
    "    for key,val in allocation.items():\n",
    "        sum1 = sum1 - (latest_prices[key]*val)\n",
    "    print(\"Value of Portfolio after short sales :\\t\",abs(sum1))\n",
    "    new = 0\n",
    "    for key,val in allocation.items():\n",
    "        new = new + (latest_prices2[key]*val)\n",
    "        sum1 = sum1 + (latest_prices2[key]*val)\n",
    "    print(\"Value at end of period :\\t\\t\",new)\n",
    "    print(\"Profit at end of time period :\\t\\t\",sum1)\n",
    "    return sum1"
   ]
  },
  {
   "cell_type": "code",
   "execution_count": 3,
   "metadata": {},
   "outputs": [
    {
     "name": "stdout",
     "output_type": "stream",
     "text": [
      "Cleaned weights:\n",
      " {'pfe': 0.36653, 'ibm': 0.21878, 'wmt': 0.22718, 'msft': 0.16404, 'cat': 0.02347}\n",
      "Expected annual return: 18.3%\n",
      "Annual volatility: 12.7%\n",
      "Sharpe Ratio: 1.28\n",
      "Portfolio Performance:\n",
      " (0.18256989382586908, 0.12675995933515896, 1.2825019405065212)\n",
      " Weights:  {'pfe': 0.07780753417839327, 'ibm': -0.40095262697007006, 'wmt': 0.057495506014782254, 'msft': 0.22245907360138628, 'cat': 0.04319051317550822}\n",
      "0 out of 5 tickers were removed\n",
      "\n",
      "Allocating long sub-portfolio:\n",
      "0 out of 4 tickers were removed\n",
      "\n",
      "Allocating short sub-portfolio:\n",
      "0 out of 1 tickers were removed\n",
      "\n",
      "Number of positions in  pfe  stock:  4933\n",
      "Number of positions in  wmt  stock:  1239\n",
      "Number of positions in  msft  stock:  5424\n",
      "Number of positions in  cat  stock:  899\n",
      "Number of positions in  ibm  stock:  -2752\n",
      "\n",
      "Funds remaining: $87.22\n",
      "\n",
      "Value of Portfolio after short sales :\t 700043.0845222473\n",
      "Value at end of period :\t\t 722801.6747055054\n",
      "Profit at end of time period :\t\t 22758.590183258057\n"
     ]
    },
    {
     "data": {
      "text/plain": [
       "22758.590183258057"
      ]
     },
     "execution_count": 3,
     "metadata": {},
     "output_type": "execute_result"
    }
   ],
   "source": [
    "calc(stockStartTime = \"2018-11-01\",stockEndTime = \"2018-12-01\")"
   ]
  },
  {
   "cell_type": "code",
   "execution_count": null,
   "metadata": {},
   "outputs": [],
   "source": []
  }
 ],
 "metadata": {
  "kernelspec": {
   "display_name": "Python 3",
   "language": "python",
   "name": "python3"
  },
  "language_info": {
   "codemirror_mode": {
    "name": "ipython",
    "version": 3
   },
   "file_extension": ".py",
   "mimetype": "text/x-python",
   "name": "python",
   "nbconvert_exporter": "python",
   "pygments_lexer": "ipython3",
   "version": "3.7.1"
  }
 },
 "nbformat": 4,
 "nbformat_minor": 2
}
