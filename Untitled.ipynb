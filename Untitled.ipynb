{
 "cells": [
  {
   "cell_type": "code",
   "execution_count": 1,
   "metadata": {},
   "outputs": [],
   "source": [
    "import ffn \n",
    "from empyrical import alpha_beta\n",
    "from pypfopt.efficient_frontier import EfficientFrontier\n",
    "from pypfopt import risk_models\n",
    "from pypfopt import expected_returns\n",
    "from pypfopt import discrete_allocation\n",
    "import matplotlib as pyplot\n",
    "import numpy as np\n",
    "import pandas as pd\n",
    "%matplotlib inline\n",
    "import matplotlib.pyplot as plt"
   ]
  },
  {
   "cell_type": "code",
   "execution_count": 12,
   "metadata": {
    "scrolled": true
   },
   "outputs": [
    {
     "name": "stdout",
     "output_type": "stream",
     "text": [
      "name:  mmm \tbeta value:  0.6166690496672075\n",
      "name:  axp \tbeta value:  0.49324124956658455\n",
      "name:  aapl \tbeta value:  1.2814752120237054\n",
      "name:  ba \tbeta value:  3.338177801341278\n",
      "name:  cat \tbeta value:  0.9865648747460943\n",
      "name:  cvx \tbeta value:  0.30497004172699455\n",
      "name:  csco \tbeta value:  0.2583288771674521\n",
      "name:  ko \tbeta value:  0.08051303787606492\n",
      "name:  xom \tbeta value:  0.031170028583297853\n",
      "name:  gs \tbeta value:  0.31360330199716613\n",
      "name:  hd \tbeta value:  1.0643198019232658\n",
      "name:  ibm \tbeta value:  -0.11748307706015737\n",
      "name:  intc \tbeta value:  0.2664495498066668\n",
      "name:  jnj \tbeta value:  0.3017684323440961\n",
      "name:  jpm \tbeta value:  0.5479576051769822\n",
      "name:  mcd \tbeta value:  0.6851956588427172\n",
      "name:  mrk \tbeta value:  0.06132061138922086\n",
      "name:  msft \tbeta value:  0.7293870878877612\n",
      "name:  nke \tbeta value:  0.4103539452328578\n",
      "name:  pfe \tbeta value:  0.14542335785963392\n",
      "name:  pg \tbeta value:  -0.03549034151291662\n",
      "name:  trv \tbeta value:  0.2993939372109521\n",
      "name:  unh \tbeta value:  1.6320483803202808\n",
      "name:  utx \tbeta value:  0.40906332169405885\n",
      "name:  vz \tbeta value:  0.10638289245696372\n",
      "name:  v \tbeta value:  0.9158042487147368\n",
      "name:  wmt \tbeta value:  0.4319627124915582\n",
      "name:  wba \tbeta value:  -0.20816347449337422\n",
      "name:  dis \tbeta value:  0.10552614916960182\n"
     ]
    }
   ],
   "source": [
    "price = list()\n",
    "benchmark = ffn.get('spy', start='2016-11-01',end='2018-11-01')\n",
    "names = ['mmm','axp','aapl','ba','cat','cvx','csco','ko','xom','gs','hd','ibm','intc','jnj','jpm','mcd','mrk','msft','nke','pfe','pg','trv','unh','utx','vz','v','wmt','wba','dis']\n",
    "for i in names:\n",
    "    \n",
    "    temp = ffn.get(i, start='2016-11-01',end='2018-11-01')\n",
    "    price.append(temp)\n",
    "    alpha, beta = alpha_beta(temp, benchmark)\n",
    "    print('name: ',i,'\\tbeta value: ',beta)"
   ]
  },
  {
   "cell_type": "code",
   "execution_count": 11,
   "metadata": {},
   "outputs": [
    {
     "name": "stdout",
     "output_type": "stream",
     "text": [
      "\n"
     ]
    }
   ],
   "source": [
    "print()"
   ]
  },
  {
   "cell_type": "code",
   "execution_count": null,
   "metadata": {},
   "outputs": [],
   "source": []
  }
 ],
 "metadata": {
  "kernelspec": {
   "display_name": "Python 3",
   "language": "python",
   "name": "python3"
  },
  "language_info": {
   "codemirror_mode": {
    "name": "ipython",
    "version": 3
   },
   "file_extension": ".py",
   "mimetype": "text/x-python",
   "name": "python",
   "nbconvert_exporter": "python",
   "pygments_lexer": "ipython3",
   "version": "3.7.1"
  }
 },
 "nbformat": 4,
 "nbformat_minor": 2
}
